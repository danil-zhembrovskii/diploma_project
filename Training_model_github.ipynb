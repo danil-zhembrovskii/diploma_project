{
 "cells": [
  {
   "cell_type": "code",
   "execution_count": null,
   "id": "36cac2ba-33d3-4032-8a58-17eb6db39047",
   "metadata": {},
   "outputs": [],
   "source": [
    "import os\n",
    "HOME = os.getcwd()\n",
    "HOME = HOME.replace(\"//\", \"/\")\n",
    "print(HOME)"
   ]
  },
  {
   "cell_type": "code",
   "execution_count": null,
   "id": "c56a6c93-1a62-47e3-b3ba-6457ef093d6d",
   "metadata": {},
   "outputs": [],
   "source": [
    "from IPython import display\n",
    "display.clear_output()\n",
    "\n",
    "\n",
    "import ultralytics\n",
    "ultralytics.checks()"
   ]
  },
  {
   "cell_type": "code",
   "execution_count": null,
   "id": "e05742b3-f5bf-40e5-86f9-4908c3ba98f3",
   "metadata": {},
   "outputs": [],
   "source": [
    "from ultralytics import YOLO\n",
    "\n",
    "from IPython.display import display, Image"
   ]
  },
  {
   "cell_type": "code",
   "execution_count": null,
   "id": "99d566e2-bb5d-47c7-b7c5-d80132994032",
   "metadata": {},
   "outputs": [],
   "source": [
    "# !pip install --user roboflow\n",
    "# !pip install cuda-python\n",
    "# !pip install -U ultralytics\n",
    "# !pip install ultralytics==8.0.235\n",
    "# !pip install --upgrade clearml tensorboard ultralytics\n",
    "# !pip install --upgrade optuna"
   ]
  },
  {
   "cell_type": "code",
   "execution_count": null,
   "id": "a34de2bf-ff8f-4737-a865-f4b4ae057918",
   "metadata": {},
   "outputs": [],
   "source": [
    "!mkdir {HOME}/datasets\n",
    "\n",
    "import roboflow\n",
    "from roboflow import Roboflow\n",
    "rf = Roboflow(api_key=\"\")\n",
    "project = rf.workspace(\"nirdetection\").project(\"new_grass\")\n",
    "dataset = project.version(5).download(\"yolov8\")"
   ]
  },
  {
   "cell_type": "code",
   "execution_count": null,
   "id": "44390b80-137f-4028-a572-48a129bf573e",
   "metadata": {},
   "outputs": [],
   "source": [
    "dataset_loc = ...\n",
    "dataset_loc"
   ]
  },
  {
   "cell_type": "code",
   "execution_count": null,
   "id": "844c966b-ee91-4992-9413-c30e42d21486",
   "metadata": {},
   "outputs": [],
   "source": [
    "from clearml import Task\n",
    "\n",
    "%env CLEARML_WEB_HOST=https://app.clear.ml\n",
    "%env CLEARML_API_HOST=https://api.clear.ml\n",
    "%env CLEARML_FILES_HOST=https://files.clear.ml\n",
    "%env CLEARML_API_ACCESS_KEY=\n",
    "%env CLEARML_API_SECRET_KEY="
   ]
  },
  {
   "cell_type": "code",
   "execution_count": null,
   "id": "74212ce2-a34b-4bdf-a7f2-cada9ff0ef40",
   "metadata": {},
   "outputs": [],
   "source": [
    "from ultralytics import YOLO\n",
    "\n",
    "model = YOLO('yolov8s.pt')\n",
    "\n",
    "results = model.train(data=r\"C....yaml\", \n",
    "                      epochs=600, \n",
    "                      imgsz=640, \n",
    "                      plots=True, \n",
    "                      verbose=True, \n",
    "                      save=True, \n",
    "                      batch=4, \n",
    "                      optimizer='auto')"
   ]
  },
  {
   "cell_type": "code",
   "execution_count": null,
   "id": "c8811dfe-5e7b-45e6-8753-dbdbed14607a",
   "metadata": {},
   "outputs": [],
   "source": [
    "from clearml import Task\n",
    "from ultralytics import YOLO \n",
    "\n",
    "# Инициализация задачи в clearml\n",
    "task = Task.init(\n",
    "    project_name=\"YOLO_NIR\",\n",
    "    task_name=\"my yolo task\"\n",
    ")\n",
    "\n",
    "# Выбор модели\n",
    "model_variant = \"yolov8s\"\n",
    "# Добавление модели в задачу\n",
    "task.set_parameter(\"model_variant\", model_variant)\n",
    "\n",
    "model = YOLO(f'{model_variant}.pt')\n",
    "\n",
    "# Записываем параметры в словарь и отправляем в clearml\n",
    "args = dict(data=r\"C:...yaml\", epochs=2, imgsz=640, plots=True, verbose=True, save = True, device = 'gpu')\n",
    "task.connect(args)\n",
    "\n",
    "# Тренируем модель\n",
    "results = model.train(**args)"
   ]
  },
  {
   "cell_type": "code",
   "execution_count": null,
   "id": "93c57660-9556-4079-99a4-c0239bae802f",
   "metadata": {},
   "outputs": [],
   "source": [
    "# Тюнинг гиперпараметров\n",
    "from ultralytics import YOLO\n",
    "\n",
    "model = YOLO('/content/600 epochs 640.pt')\n",
    "\n",
    "model.tune(data='/content/datasets/new_grass-5/data.yaml', \n",
    "           epochs=30, \n",
    "           iterations=100, \n",
    "           plots=True, \n",
    "           save=True)"
   ]
  },
  {
   "cell_type": "code",
   "execution_count": null,
   "id": "86fc65d8-b08c-41f9-9084-316ed7b84351",
   "metadata": {},
   "outputs": [],
   "source": [
    "# Сохранение меток и добавление их в конце файла, то есть улучшение обучающей выборки для дальнейшего обучения\n",
    "\n",
    "import fileinput\n",
    "\n",
    "\n",
    "dir_pred = r\"C......\"\n",
    "dir_origin = r\"C......\"\n",
    "\n",
    "items_pred = []\n",
    "for root, dirs, files in os.walk(dir_pred, topdown=False):\n",
    "    for name in files:\n",
    "        items_pred.append(os.path.join(root, name))\n",
    "\n",
    "items_origin = []\n",
    "for root, dirs, files in os.walk(dir_origin, topdown=False):\n",
    "    for name in files:\n",
    "        items_origin.append(os.path.join(root, name))\n",
    "\n",
    "def append_files_method3(file1_path, file2_path):\n",
    "    if os.stat(file2_path).st_size != 0:\n",
    "        with open(file2_path, 'a') as file2:\n",
    "            with fileinput.input(files=file1_path) as file1:\n",
    "                file2.write('\\n')\n",
    "                for line in file1:\n",
    "                    file2.write(line)\n",
    "    else:\n",
    "        with open(file2_path, 'a') as file2:\n",
    "            with fileinput.input(files=file1_path) as file1:\n",
    "                for line in file1:\n",
    "                    file2.write(line)\n",
    "\n",
    "for orig in items_origin:\n",
    "    for pred in items_pred:\n",
    "        if orig.split('\\\\')[-1] == pred.split('\\\\')[-1]:\n",
    "            file2_path = orig\n",
    "            file1_path = pred\n",
    "            append_files_method3(file1_path, file2_path)"
   ]
  }
 ],
 "metadata": {
  "kernelspec": {
   "display_name": "Python 3 (ipykernel)",
   "language": "python",
   "name": "python3"
  },
  "language_info": {
   "codemirror_mode": {
    "name": "ipython",
    "version": 3
   },
   "file_extension": ".py",
   "mimetype": "text/x-python",
   "name": "python",
   "nbconvert_exporter": "python",
   "pygments_lexer": "ipython3",
   "version": "3.9.0"
  }
 },
 "nbformat": 4,
 "nbformat_minor": 5
}
